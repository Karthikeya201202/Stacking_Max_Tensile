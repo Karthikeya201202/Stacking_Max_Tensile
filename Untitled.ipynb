{
 "cells": [
  {
   "cell_type": "code",
   "execution_count": 2,
   "id": "e387473b",
   "metadata": {},
   "outputs": [
    {
     "name": "stdout",
     "output_type": "stream",
     "text": [
      "Using TensorFlow backend\n"
     ]
    }
   ],
   "source": [
    "import numpy as np\n",
    "import pandas as pd\n",
    "import matplotlib.pyplot as plt\n",
    "import seaborn as sns\n",
    "%matplotlib inline\n",
    "from sklearn.model_selection import train_test_split\n",
    "from sklearn.metrics import r2_score, mean_squared_error, mean_absolute_error\n",
    "from sklearn.preprocessing import MinMaxScaler, PolynomialFeatures\n",
    "import autokeras as ak"
   ]
  },
  {
   "cell_type": "code",
   "execution_count": 3,
   "id": "c93b21f2",
   "metadata": {},
   "outputs": [
    {
     "data": {
      "text/html": [
       "<div>\n",
       "<style scoped>\n",
       "    .dataframe tbody tr th:only-of-type {\n",
       "        vertical-align: middle;\n",
       "    }\n",
       "\n",
       "    .dataframe tbody tr th {\n",
       "        vertical-align: top;\n",
       "    }\n",
       "\n",
       "    .dataframe thead th {\n",
       "        text-align: right;\n",
       "    }\n",
       "</style>\n",
       "<table border=\"1\" class=\"dataframe\">\n",
       "  <thead>\n",
       "    <tr style=\"text-align: right;\">\n",
       "      <th></th>\n",
       "      <th>L1</th>\n",
       "      <th>L2</th>\n",
       "      <th>L3</th>\n",
       "      <th>L4</th>\n",
       "      <th>L5</th>\n",
       "      <th>L6</th>\n",
       "      <th>force</th>\n",
       "      <th>depth</th>\n",
       "      <th>hole_radius</th>\n",
       "      <th>circle_radius</th>\n",
       "      <th>hole_angle</th>\n",
       "      <th>width</th>\n",
       "      <th>length</th>\n",
       "      <th>max_stress</th>\n",
       "    </tr>\n",
       "  </thead>\n",
       "  <tbody>\n",
       "    <tr>\n",
       "      <th>0</th>\n",
       "      <td>0</td>\n",
       "      <td>90</td>\n",
       "      <td>45</td>\n",
       "      <td>-45</td>\n",
       "      <td>90</td>\n",
       "      <td>0</td>\n",
       "      <td>40000</td>\n",
       "      <td>3.636</td>\n",
       "      <td>3.0</td>\n",
       "      <td>4.5</td>\n",
       "      <td>15</td>\n",
       "      <td>36</td>\n",
       "      <td>250</td>\n",
       "      <td>1726.66</td>\n",
       "    </tr>\n",
       "    <tr>\n",
       "      <th>1</th>\n",
       "      <td>0</td>\n",
       "      <td>90</td>\n",
       "      <td>45</td>\n",
       "      <td>-45</td>\n",
       "      <td>90</td>\n",
       "      <td>0</td>\n",
       "      <td>40000</td>\n",
       "      <td>3.636</td>\n",
       "      <td>3.0</td>\n",
       "      <td>4.5</td>\n",
       "      <td>15</td>\n",
       "      <td>36</td>\n",
       "      <td>200</td>\n",
       "      <td>1727.58</td>\n",
       "    </tr>\n",
       "    <tr>\n",
       "      <th>2</th>\n",
       "      <td>0</td>\n",
       "      <td>90</td>\n",
       "      <td>45</td>\n",
       "      <td>-45</td>\n",
       "      <td>90</td>\n",
       "      <td>0</td>\n",
       "      <td>40000</td>\n",
       "      <td>3.636</td>\n",
       "      <td>3.0</td>\n",
       "      <td>4.5</td>\n",
       "      <td>15</td>\n",
       "      <td>36</td>\n",
       "      <td>150</td>\n",
       "      <td>1731.44</td>\n",
       "    </tr>\n",
       "    <tr>\n",
       "      <th>3</th>\n",
       "      <td>0</td>\n",
       "      <td>90</td>\n",
       "      <td>45</td>\n",
       "      <td>-45</td>\n",
       "      <td>90</td>\n",
       "      <td>0</td>\n",
       "      <td>40000</td>\n",
       "      <td>3.636</td>\n",
       "      <td>3.0</td>\n",
       "      <td>4.5</td>\n",
       "      <td>15</td>\n",
       "      <td>36</td>\n",
       "      <td>100</td>\n",
       "      <td>1734.23</td>\n",
       "    </tr>\n",
       "    <tr>\n",
       "      <th>4</th>\n",
       "      <td>0</td>\n",
       "      <td>90</td>\n",
       "      <td>45</td>\n",
       "      <td>-45</td>\n",
       "      <td>90</td>\n",
       "      <td>0</td>\n",
       "      <td>40000</td>\n",
       "      <td>3.636</td>\n",
       "      <td>3.0</td>\n",
       "      <td>4.5</td>\n",
       "      <td>15</td>\n",
       "      <td>32</td>\n",
       "      <td>250</td>\n",
       "      <td>1975.26</td>\n",
       "    </tr>\n",
       "  </tbody>\n",
       "</table>\n",
       "</div>"
      ],
      "text/plain": [
       "   L1  L2  L3  L4  L5  L6  force  depth  hole_radius  circle_radius  \\\n",
       "0   0  90  45 -45  90   0  40000  3.636          3.0            4.5   \n",
       "1   0  90  45 -45  90   0  40000  3.636          3.0            4.5   \n",
       "2   0  90  45 -45  90   0  40000  3.636          3.0            4.5   \n",
       "3   0  90  45 -45  90   0  40000  3.636          3.0            4.5   \n",
       "4   0  90  45 -45  90   0  40000  3.636          3.0            4.5   \n",
       "\n",
       "   hole_angle  width  length  max_stress  \n",
       "0          15     36     250     1726.66  \n",
       "1          15     36     200     1727.58  \n",
       "2          15     36     150     1731.44  \n",
       "3          15     36     100     1734.23  \n",
       "4          15     32     250     1975.26  "
      ]
     },
     "execution_count": 3,
     "metadata": {},
     "output_type": "execute_result"
    }
   ],
   "source": [
    "df= pd.read_excel(r\"C:\\Users\\yedla\\Downloads\\Stacking_max_stress\\vznd6z234n-1\\Data.xlsx\")\n",
    "df.head()"
   ]
  },
  {
   "cell_type": "code",
   "execution_count": 4,
   "id": "03c6c065",
   "metadata": {},
   "outputs": [
    {
     "data": {
      "text/html": [
       "<div>\n",
       "<style scoped>\n",
       "    .dataframe tbody tr th:only-of-type {\n",
       "        vertical-align: middle;\n",
       "    }\n",
       "\n",
       "    .dataframe tbody tr th {\n",
       "        vertical-align: top;\n",
       "    }\n",
       "\n",
       "    .dataframe thead th {\n",
       "        text-align: right;\n",
       "    }\n",
       "</style>\n",
       "<table border=\"1\" class=\"dataframe\">\n",
       "  <thead>\n",
       "    <tr style=\"text-align: right;\">\n",
       "      <th></th>\n",
       "      <th>max_stress</th>\n",
       "    </tr>\n",
       "  </thead>\n",
       "  <tbody>\n",
       "    <tr>\n",
       "      <th>0</th>\n",
       "      <td>1726.66</td>\n",
       "    </tr>\n",
       "    <tr>\n",
       "      <th>1</th>\n",
       "      <td>1727.58</td>\n",
       "    </tr>\n",
       "    <tr>\n",
       "      <th>2</th>\n",
       "      <td>1731.44</td>\n",
       "    </tr>\n",
       "    <tr>\n",
       "      <th>3</th>\n",
       "      <td>1734.23</td>\n",
       "    </tr>\n",
       "    <tr>\n",
       "      <th>4</th>\n",
       "      <td>1975.26</td>\n",
       "    </tr>\n",
       "  </tbody>\n",
       "</table>\n",
       "</div>"
      ],
      "text/plain": [
       "   max_stress\n",
       "0     1726.66\n",
       "1     1727.58\n",
       "2     1731.44\n",
       "3     1734.23\n",
       "4     1975.26"
      ]
     },
     "execution_count": 4,
     "metadata": {},
     "output_type": "execute_result"
    }
   ],
   "source": [
    "y=df.iloc[:,-1:]\n",
    "y.head()"
   ]
  },
  {
   "cell_type": "code",
   "execution_count": 5,
   "id": "82a5974f",
   "metadata": {},
   "outputs": [
    {
     "data": {
      "text/html": [
       "<div>\n",
       "<style scoped>\n",
       "    .dataframe tbody tr th:only-of-type {\n",
       "        vertical-align: middle;\n",
       "    }\n",
       "\n",
       "    .dataframe tbody tr th {\n",
       "        vertical-align: top;\n",
       "    }\n",
       "\n",
       "    .dataframe thead th {\n",
       "        text-align: right;\n",
       "    }\n",
       "</style>\n",
       "<table border=\"1\" class=\"dataframe\">\n",
       "  <thead>\n",
       "    <tr style=\"text-align: right;\">\n",
       "      <th></th>\n",
       "      <th>L1</th>\n",
       "      <th>L2</th>\n",
       "      <th>L3</th>\n",
       "      <th>L4</th>\n",
       "      <th>L5</th>\n",
       "      <th>L6</th>\n",
       "      <th>force</th>\n",
       "      <th>depth</th>\n",
       "      <th>hole_radius</th>\n",
       "      <th>circle_radius</th>\n",
       "      <th>hole_angle</th>\n",
       "      <th>width</th>\n",
       "      <th>length</th>\n",
       "    </tr>\n",
       "  </thead>\n",
       "  <tbody>\n",
       "    <tr>\n",
       "      <th>0</th>\n",
       "      <td>0</td>\n",
       "      <td>90</td>\n",
       "      <td>45</td>\n",
       "      <td>-45</td>\n",
       "      <td>90</td>\n",
       "      <td>0</td>\n",
       "      <td>40000</td>\n",
       "      <td>3.636</td>\n",
       "      <td>3.0</td>\n",
       "      <td>4.5</td>\n",
       "      <td>15</td>\n",
       "      <td>36</td>\n",
       "      <td>250</td>\n",
       "    </tr>\n",
       "    <tr>\n",
       "      <th>1</th>\n",
       "      <td>0</td>\n",
       "      <td>90</td>\n",
       "      <td>45</td>\n",
       "      <td>-45</td>\n",
       "      <td>90</td>\n",
       "      <td>0</td>\n",
       "      <td>40000</td>\n",
       "      <td>3.636</td>\n",
       "      <td>3.0</td>\n",
       "      <td>4.5</td>\n",
       "      <td>15</td>\n",
       "      <td>36</td>\n",
       "      <td>200</td>\n",
       "    </tr>\n",
       "    <tr>\n",
       "      <th>2</th>\n",
       "      <td>0</td>\n",
       "      <td>90</td>\n",
       "      <td>45</td>\n",
       "      <td>-45</td>\n",
       "      <td>90</td>\n",
       "      <td>0</td>\n",
       "      <td>40000</td>\n",
       "      <td>3.636</td>\n",
       "      <td>3.0</td>\n",
       "      <td>4.5</td>\n",
       "      <td>15</td>\n",
       "      <td>36</td>\n",
       "      <td>150</td>\n",
       "    </tr>\n",
       "    <tr>\n",
       "      <th>3</th>\n",
       "      <td>0</td>\n",
       "      <td>90</td>\n",
       "      <td>45</td>\n",
       "      <td>-45</td>\n",
       "      <td>90</td>\n",
       "      <td>0</td>\n",
       "      <td>40000</td>\n",
       "      <td>3.636</td>\n",
       "      <td>3.0</td>\n",
       "      <td>4.5</td>\n",
       "      <td>15</td>\n",
       "      <td>36</td>\n",
       "      <td>100</td>\n",
       "    </tr>\n",
       "    <tr>\n",
       "      <th>4</th>\n",
       "      <td>0</td>\n",
       "      <td>90</td>\n",
       "      <td>45</td>\n",
       "      <td>-45</td>\n",
       "      <td>90</td>\n",
       "      <td>0</td>\n",
       "      <td>40000</td>\n",
       "      <td>3.636</td>\n",
       "      <td>3.0</td>\n",
       "      <td>4.5</td>\n",
       "      <td>15</td>\n",
       "      <td>32</td>\n",
       "      <td>250</td>\n",
       "    </tr>\n",
       "  </tbody>\n",
       "</table>\n",
       "</div>"
      ],
      "text/plain": [
       "   L1  L2  L3  L4  L5  L6  force  depth  hole_radius  circle_radius  \\\n",
       "0   0  90  45 -45  90   0  40000  3.636          3.0            4.5   \n",
       "1   0  90  45 -45  90   0  40000  3.636          3.0            4.5   \n",
       "2   0  90  45 -45  90   0  40000  3.636          3.0            4.5   \n",
       "3   0  90  45 -45  90   0  40000  3.636          3.0            4.5   \n",
       "4   0  90  45 -45  90   0  40000  3.636          3.0            4.5   \n",
       "\n",
       "   hole_angle  width  length  \n",
       "0          15     36     250  \n",
       "1          15     36     200  \n",
       "2          15     36     150  \n",
       "3          15     36     100  \n",
       "4          15     32     250  "
      ]
     },
     "execution_count": 5,
     "metadata": {},
     "output_type": "execute_result"
    }
   ],
   "source": [
    "X=df.iloc[:,:-1]\n",
    "X.head()"
   ]
  },
  {
   "cell_type": "code",
   "execution_count": 6,
   "id": "a6e2597e",
   "metadata": {},
   "outputs": [],
   "source": [
    "X_train,X_test,y_train,y_test=train_test_split(X,y,test_size=0.3,random_state=19)"
   ]
  },
  {
   "cell_type": "code",
   "execution_count": 7,
   "id": "84d22fc6",
   "metadata": {},
   "outputs": [
    {
     "name": "stdout",
     "output_type": "stream",
     "text": [
      "6136 2630\n"
     ]
    }
   ],
   "source": [
    "print(len(X_train),len(X_test))"
   ]
  },
  {
   "cell_type": "code",
   "execution_count": 8,
   "id": "74703f47",
   "metadata": {},
   "outputs": [],
   "source": [
    "# Initialize the StructuredDataRegressor\n",
    "reg = ak.StructuredDataRegressor(max_trials=5,overwrite=True,metrics=['mae','mse'])"
   ]
  },
  {
   "cell_type": "code",
   "execution_count": 9,
   "id": "6bd797c1",
   "metadata": {},
   "outputs": [
    {
     "name": "stdout",
     "output_type": "stream",
     "text": [
      "INFO:tensorflow:Oracle triggered exit\n",
      "INFO:tensorflow:Assets written to: .\\structured_data_regressor\\best_model\\assets\n"
     ]
    },
    {
     "data": {
      "text/plain": [
       "<keras.callbacks.History at 0x233b9695b20>"
      ]
     },
     "execution_count": 9,
     "metadata": {},
     "output_type": "execute_result"
    }
   ],
   "source": [
    "# Search for the best model.\n",
    "reg.fit(X_train.to_numpy(),y_train.to_numpy(), validation_split=0.2,epochs=70, verbose=0)"
   ]
  },
  {
   "cell_type": "code",
   "execution_count": 10,
   "id": "c3173ef3",
   "metadata": {},
   "outputs": [
    {
     "name": "stdout",
     "output_type": "stream",
     "text": [
      "83/83 [==============================] - 1s 3ms/step - loss: 52133.0078 - mae: 148.6940 - mse: 52133.0078\n"
     ]
    },
    {
     "data": {
      "text/plain": [
       "[52133.0078125, 148.6940460205078, 52133.0078125]"
      ]
     },
     "execution_count": 10,
     "metadata": {},
     "output_type": "execute_result"
    }
   ],
   "source": [
    "reg.evaluate(X_test, y_test)"
   ]
  },
  {
   "cell_type": "code",
   "execution_count": 11,
   "id": "1bed213f",
   "metadata": {},
   "outputs": [
    {
     "name": "stdout",
     "output_type": "stream",
     "text": [
      "83/83 [==============================] - 1s 3ms/step\n",
      "83/83 [==============================] - 0s 2ms/step\n",
      "Predicted Stress: 1295.769\n",
      "Real stress: [1338.]\n",
      "\n",
      "Predicted Stress: 2023.948\n",
      "Real stress: [1857.]\n",
      "\n",
      "Predicted Stress: 1571.021\n",
      "Real stress: [1637.]\n",
      "\n",
      "Predicted Stress: 3884.376\n",
      "Real stress: [4080.]\n",
      "\n",
      "Predicted Stress: 2470.07\n",
      "Real stress: [2799.]\n",
      "\n",
      "Predicted Stress: 514.044\n",
      "Real stress: [471.]\n",
      "\n",
      "Predicted Stress: 2986.076\n",
      "Real stress: [2827.]\n",
      "\n",
      "Predicted Stress: 1068.036\n",
      "Real stress: [1108.]\n",
      "\n",
      "Predicted Stress: 887.572\n",
      "Real stress: [1015.]\n",
      "\n",
      "Predicted Stress: 2025.141\n",
      "Real stress: [2051.]\n",
      "\n"
     ]
    }
   ],
   "source": [
    "predicted = reg.predict(X_test).flatten()\n",
    "real = y_test.to_numpy()\n",
    "for i in range(10):\n",
    "    print('Predicted Stress:', predicted[i].round(3))\n",
    "    print('Real stress:', real[i].round(0))\n",
    "    print('')"
   ]
  },
  {
   "cell_type": "code",
   "execution_count": 12,
   "id": "6b360f7f",
   "metadata": {},
   "outputs": [
    {
     "name": "stdout",
     "output_type": "stream",
     "text": [
      "Model: \"model\"\n",
      "_________________________________________________________________\n",
      " Layer (type)                Output Shape              Param #   \n",
      "=================================================================\n",
      " input_1 (InputLayer)        [(None, 13)]              0         \n",
      "                                                                 \n",
      " multi_category_encoding (Mu  (None, 13)               0         \n",
      " ltiCategoryEncoding)                                            \n",
      "                                                                 \n",
      " normalization (Normalizatio  (None, 13)               27        \n",
      " n)                                                              \n",
      "                                                                 \n",
      " dense (Dense)               (None, 32)                448       \n",
      "                                                                 \n",
      " re_lu (ReLU)                (None, 32)                0         \n",
      "                                                                 \n",
      " dense_1 (Dense)             (None, 32)                1056      \n",
      "                                                                 \n",
      " re_lu_1 (ReLU)              (None, 32)                0         \n",
      "                                                                 \n",
      " dense_2 (Dense)             (None, 1024)              33792     \n",
      "                                                                 \n",
      " re_lu_2 (ReLU)              (None, 1024)              0         \n",
      "                                                                 \n",
      " regression_head_1 (Dense)   (None, 1)                 1025      \n",
      "                                                                 \n",
      "=================================================================\n",
      "Total params: 36,348\n",
      "Trainable params: 36,321\n",
      "Non-trainable params: 27\n",
      "_________________________________________________________________\n"
     ]
    }
   ],
   "source": [
    "keras_model = reg.export_model()\n",
    "keras_model.summary()"
   ]
  },
  {
   "cell_type": "code",
   "execution_count": 14,
   "id": "00b2f7b1",
   "metadata": {},
   "outputs": [
    {
     "name": "stdout",
     "output_type": "stream",
     "text": [
      "Collecting pydot\n",
      "  Downloading pydot-1.4.2-py2.py3-none-any.whl (21 kB)\n",
      "Requirement already satisfied: pyparsing>=2.1.4 in c:\\users\\yedla\\anaconda\\lib\\site-packages (from pydot) (3.0.4)\n",
      "Installing collected packages: pydot\n",
      "Successfully installed pydot-1.4.2\n"
     ]
    }
   ],
   "source": [
    "!pip install pydot"
   ]
  },
  {
   "cell_type": "code",
   "execution_count": 15,
   "id": "1a1a3a64",
   "metadata": {},
   "outputs": [
    {
     "name": "stdout",
     "output_type": "stream",
     "text": [
      "You must install pydot (`pip install pydot`) and install graphviz (see instructions at https://graphviz.gitlab.io/download/) for plot_model to work.\n"
     ]
    }
   ],
   "source": [
    "#from tensorflow.keras.utils import plot_model\n",
    "#plot_model(keras_model)"
   ]
  },
  {
   "cell_type": "code",
   "execution_count": null,
   "id": "58e54fd3",
   "metadata": {},
   "outputs": [],
   "source": []
  },
  {
   "cell_type": "code",
   "execution_count": null,
   "id": "0d2782b5",
   "metadata": {},
   "outputs": [],
   "source": [
    "#model.save('/content/models/regression_model',save_format=\"tf\")"
   ]
  }
 ],
 "metadata": {
  "kernelspec": {
   "display_name": "Python 3 (ipykernel)",
   "language": "python",
   "name": "python3"
  },
  "language_info": {
   "codemirror_mode": {
    "name": "ipython",
    "version": 3
   },
   "file_extension": ".py",
   "mimetype": "text/x-python",
   "name": "python",
   "nbconvert_exporter": "python",
   "pygments_lexer": "ipython3",
   "version": "3.9.7"
  }
 },
 "nbformat": 4,
 "nbformat_minor": 5
}
